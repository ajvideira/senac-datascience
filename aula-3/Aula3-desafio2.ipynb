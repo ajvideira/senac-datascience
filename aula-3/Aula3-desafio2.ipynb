{
 "cells": [
  {
   "cell_type": "code",
   "id": "initial_id",
   "metadata": {
    "collapsed": true,
    "ExecuteTime": {
     "end_time": "2025-10-28T19:58:57.394601Z",
     "start_time": "2025-10-28T19:58:47.990688Z"
    }
   },
   "source": [
    "import requests\n",
    "import pandas as pd\n",
    "\n",
    "proxies = {\n",
    "    'http': 'http://localhost:3128',\n",
    "    'https': 'http://localhost:3128',\n",
    "}\n",
    "\n",
    "url = \"https://api.open-meteo.com/v1/forecast\"\n",
    "params = {\n",
    "\t\"latitude\": -30.0454762,\n",
    "\t\"longitude\": -51.2131703,\n",
    "\t\"daily\": [\"temperature_2m_min\", \"temperature_2m_max\"],\n",
    "    \"timezone\": \"America/Sao_Paulo\",\n",
    "    \"forecast_days\": 5\n",
    "}\n",
    "\n",
    "response = requests.get(url, params=params, proxies=proxies)\n",
    "\n",
    "print('Status Code: ', response.status_code)\n",
    "\n",
    "data = response.json()\n",
    "\n",
    "display(data['daily'])\n",
    "\n",
    "df_daily = pd.DataFrame(data['daily'])\n",
    "\n",
    "display(df_daily)"
   ],
   "outputs": [
    {
     "name": "stdout",
     "output_type": "stream",
     "text": [
      "Status Code:  200\n",
      "Content Type:  application/json; charset=utf-8\n",
      "Encoding:  utf-8\n"
     ]
    },
    {
     "data": {
      "text/plain": [
       "{'time': ['2025-10-28',\n",
       "  '2025-10-29',\n",
       "  '2025-10-30',\n",
       "  '2025-10-31',\n",
       "  '2025-11-01'],\n",
       " 'temperature_2m_min': [16.9, 16.4, 16.2, 15.8, 16.6],\n",
       " 'temperature_2m_max': [20.9, 16.9, 20.6, 22.6, 27.9]}"
      ]
     },
     "metadata": {},
     "output_type": "display_data",
     "jetTransient": {
      "display_id": null
     }
    },
    {
     "data": {
      "text/plain": [
       "         time  temperature_2m_min  temperature_2m_max\n",
       "0  2025-10-28                16.9                20.9\n",
       "1  2025-10-29                16.4                16.9\n",
       "2  2025-10-30                16.2                20.6\n",
       "3  2025-10-31                15.8                22.6\n",
       "4  2025-11-01                16.6                27.9"
      ],
      "text/html": [
       "<div>\n",
       "<style scoped>\n",
       "    .dataframe tbody tr th:only-of-type {\n",
       "        vertical-align: middle;\n",
       "    }\n",
       "\n",
       "    .dataframe tbody tr th {\n",
       "        vertical-align: top;\n",
       "    }\n",
       "\n",
       "    .dataframe thead th {\n",
       "        text-align: right;\n",
       "    }\n",
       "</style>\n",
       "<table border=\"1\" class=\"dataframe\">\n",
       "  <thead>\n",
       "    <tr style=\"text-align: right;\">\n",
       "      <th></th>\n",
       "      <th>time</th>\n",
       "      <th>temperature_2m_min</th>\n",
       "      <th>temperature_2m_max</th>\n",
       "    </tr>\n",
       "  </thead>\n",
       "  <tbody>\n",
       "    <tr>\n",
       "      <th>0</th>\n",
       "      <td>2025-10-28</td>\n",
       "      <td>16.9</td>\n",
       "      <td>20.9</td>\n",
       "    </tr>\n",
       "    <tr>\n",
       "      <th>1</th>\n",
       "      <td>2025-10-29</td>\n",
       "      <td>16.4</td>\n",
       "      <td>16.9</td>\n",
       "    </tr>\n",
       "    <tr>\n",
       "      <th>2</th>\n",
       "      <td>2025-10-30</td>\n",
       "      <td>16.2</td>\n",
       "      <td>20.6</td>\n",
       "    </tr>\n",
       "    <tr>\n",
       "      <th>3</th>\n",
       "      <td>2025-10-31</td>\n",
       "      <td>15.8</td>\n",
       "      <td>22.6</td>\n",
       "    </tr>\n",
       "    <tr>\n",
       "      <th>4</th>\n",
       "      <td>2025-11-01</td>\n",
       "      <td>16.6</td>\n",
       "      <td>27.9</td>\n",
       "    </tr>\n",
       "  </tbody>\n",
       "</table>\n",
       "</div>"
      ]
     },
     "metadata": {},
     "output_type": "display_data",
     "jetTransient": {
      "display_id": null
     }
    }
   ],
   "execution_count": 13
  },
  {
   "metadata": {},
   "cell_type": "code",
   "outputs": [],
   "execution_count": null,
   "source": "",
   "id": "8a35e69f26d562f9"
  }
 ],
 "metadata": {
  "kernelspec": {
   "display_name": "Python 3",
   "language": "python",
   "name": "python3"
  },
  "language_info": {
   "codemirror_mode": {
    "name": "ipython",
    "version": 2
   },
   "file_extension": ".py",
   "mimetype": "text/x-python",
   "name": "python",
   "nbconvert_exporter": "python",
   "pygments_lexer": "ipython2",
   "version": "2.7.6"
  }
 },
 "nbformat": 4,
 "nbformat_minor": 5
}
